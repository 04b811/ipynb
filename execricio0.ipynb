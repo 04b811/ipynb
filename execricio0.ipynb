{
  "nbformat": 4,
  "nbformat_minor": 0,
  "metadata": {
    "colab": {
      "provenance": [],
      "authorship_tag": "ABX9TyM9a+rNraDqqtCXJ5q7eu56",
      "include_colab_link": true
    },
    "kernelspec": {
      "name": "python3",
      "display_name": "Python 3"
    },
    "language_info": {
      "name": "python"
    }
  },
  "cells": [
    {
      "cell_type": "markdown",
      "metadata": {
        "id": "view-in-github",
        "colab_type": "text"
      },
      "source": [
        "<a href=\"https://colab.research.google.com/github/04b811/ipynb/blob/main/execricio0.ipynb\" target=\"_parent\"><img src=\"https://colab.research.google.com/assets/colab-badge.svg\" alt=\"Open In Colab\"/></a>"
      ]
    },
    {
      "cell_type": "code",
      "source": [
        "#aula 27-02\n",
        "t = True\n",
        "f = False\n",
        "\n",
        "print(type(t))\n",
        "print(t and f)\n",
        "print(t or f)\n",
        "print(not t)\n",
        "print(t !=f)\n"
      ],
      "metadata": {
        "colab": {
          "base_uri": "https://localhost:8080/"
        },
        "id": "m9VgnDqqjVxM",
        "outputId": "05b97e0d-60bf-4a62-e836-dac61a862c26"
      },
      "execution_count": null,
      "outputs": [
        {
          "output_type": "stream",
          "name": "stdout",
          "text": [
            "<class 'bool'>\n",
            "False\n",
            "True\n",
            "False\n",
            "True\n"
          ]
        }
      ]
    },
    {
      "cell_type": "code",
      "source": [
        "def soma (a,b):\n",
        "  c=a+b\n",
        "  return c\n",
        "\n",
        "  soma(5,4)"
      ],
      "metadata": {
        "id": "g_W5ughs1XkD"
      },
      "execution_count": null,
      "outputs": []
    },
    {
      "cell_type": "code",
      "source": [
        "def leitura():\n",
        "  nome=input(\"digite seu nome: \")\n",
        "  sobrenome=input(\"digite seu sobrenome: \")\n",
        "  nomecompleto = nome +\" \"+ sobrenome\n",
        "  print(\"Seu nome completo é:\",nomecompleto)\n",
        "\n",
        "leitura()"
      ],
      "metadata": {
        "colab": {
          "base_uri": "https://localhost:8080/"
        },
        "id": "E33YJIJC2NGz",
        "outputId": "f59107a6-7cba-4205-a811-5e27e5c098c9"
      },
      "execution_count": null,
      "outputs": [
        {
          "output_type": "stream",
          "name": "stdout",
          "text": [
            "digite seu nome: Julia\n",
            "digite seu sobrenome: Grutter\n",
            "Seu nome completo é: Julia Grutter\n"
          ]
        }
      ]
    },
    {
      "cell_type": "code",
      "source": [
        "#Area de um triangulo\n",
        "#(base * altura)/ 2\n",
        "\n",
        "def triangulo(b,h):\n",
        "  c=b*h/2\n",
        "  return c\n",
        "\n",
        "x=float(input(\"Digite a base do triângulo: \"))\n",
        "y=float(input(\"Digite a altura do triângulo: \"))\n",
        "print(triangulo(x,y))\n"
      ],
      "metadata": {
        "colab": {
          "base_uri": "https://localhost:8080/"
        },
        "id": "jI5aAEDM4eZz",
        "outputId": "537cb803-2cac-4235-dcb8-9f4c86af5198"
      },
      "execution_count": null,
      "outputs": [
        {
          "output_type": "stream",
          "name": "stdout",
          "text": [
            "Digite a base do triângulo: 3.5\n",
            "Digite a altura do triângulo: 4\n",
            "7.0\n"
          ]
        }
      ]
    },
    {
      "cell_type": "code",
      "source": [
        "#Area de um cilindro\n",
        "#quantidade[2.pi.raio(raio + altura)\n",
        "#pi, raio, altura\n",
        "\n",
        "def cilindro(r,h):\n",
        " a = 2*3.14*r*(r+h)\n",
        " return a\n",
        "\n",
        "x=float(input(\"Digite o raio do cilindro: \"))\n",
        "y=float(input(\"Digite a altura do cilindro: \"))\n",
        "print(cilindro(x,y))\n"
      ],
      "metadata": {
        "id": "15F52SoM75OM",
        "colab": {
          "base_uri": "https://localhost:8080/"
        },
        "outputId": "bc30e172-27bc-4d43-b8d0-9d6f656af06f"
      },
      "execution_count": 6,
      "outputs": [
        {
          "output_type": "stream",
          "name": "stdout",
          "text": [
            "Digite o raio do cilindro: 4\n",
            "Digite a altura do cilindro: 12\n",
            "128.0\n"
          ]
        }
      ]
    },
    {
      "cell_type": "code",
      "source": [
        "def potencia(a,b):\n",
        "  c=a**b\n",
        "  return c\n",
        "\n",
        "x=int(input(\"Digite um valor:\"))\n",
        "y=int(input(\"Digite o valor da potência\"))\n",
        "print(potencia(x,y))"
      ],
      "metadata": {
        "colab": {
          "base_uri": "https://localhost:8080/"
        },
        "id": "XQ3LhrNs3hcL",
        "outputId": "ccdc9f0c-6543-43b8-b643-65a9ba066577"
      },
      "execution_count": null,
      "outputs": [
        {
          "output_type": "stream",
          "name": "stdout",
          "text": [
            "Digite um valor:2\n",
            "Digite o valor da potência2\n",
            "4\n"
          ]
        }
      ]
    }
  ]
}