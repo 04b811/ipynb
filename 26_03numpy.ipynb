{
  "nbformat": 4,
  "nbformat_minor": 0,
  "metadata": {
    "colab": {
      "provenance": [],
      "authorship_tag": "ABX9TyP9b5CJ8ulJ6JFRoe99z/fy",
      "include_colab_link": true
    },
    "kernelspec": {
      "name": "python3",
      "display_name": "Python 3"
    },
    "language_info": {
      "name": "python"
    }
  },
  "cells": [
    {
      "cell_type": "markdown",
      "metadata": {
        "id": "view-in-github",
        "colab_type": "text"
      },
      "source": [
        "<a href=\"https://colab.research.google.com/github/04b811/ipynb/blob/main/26_03numpy.ipynb\" target=\"_parent\"><img src=\"https://colab.research.google.com/assets/colab-badge.svg\" alt=\"Open In Colab\"/></a>"
      ]
    },
    {
      "cell_type": "code",
      "execution_count": 2,
      "metadata": {
        "colab": {
          "base_uri": "https://localhost:8080/"
        },
        "id": "wuWWVnRByCis",
        "outputId": "816cbf0d-d2e2-4974-f1e3-4308fec4362a"
      },
      "outputs": [
        {
          "output_type": "stream",
          "name": "stdout",
          "text": [
            "[12 34 26 18 10]\n",
            "int64\n"
          ]
        }
      ],
      "source": [
        "import numpy as np\n",
        "\n",
        "a = np.array([12,34,26,18,10])\n",
        "#cria uma matriz unidimensional\n",
        "print(a)\n",
        "print(a.dtype)"
      ]
    },
    {
      "cell_type": "code",
      "source": [
        "import numpy as np\n",
        "\n",
        "b = np.array([[7,2,23],[12,27,4],[5,34,23]])\n",
        "#cria uma matriz bidimensional\n",
        "print(b)"
      ],
      "metadata": {
        "colab": {
          "base_uri": "https://localhost:8080/"
        },
        "id": "-RTBnqeBzY3i",
        "outputId": "0ab4107e-80eb-4141-aa39-8286a1b5a01f"
      },
      "execution_count": 3,
      "outputs": [
        {
          "output_type": "stream",
          "name": "stdout",
          "text": [
            "[[ 7  2 23]\n",
            " [12 27  4]\n",
            " [ 5 34 23]]\n"
          ]
        }
      ]
    },
    {
      "cell_type": "code",
      "source": [
        "import numpy as np\n",
        "\n",
        "d = np.zeros([4,3])\n",
        "# cria uma matriz 4x3 com valores 0\n",
        "print(d)\n",
        "\n",
        "f = np.eye(5)\n",
        "# cria uma matriz quadrada com diagonal principal com quatro valores 0\n",
        "print(f)"
      ],
      "metadata": {
        "colab": {
          "base_uri": "https://localhost:8080/"
        },
        "id": "gP6KKujR0J1S",
        "outputId": "41ad32cc-414b-420b-cfb5-d2a7479fe653"
      },
      "execution_count": 5,
      "outputs": [
        {
          "output_type": "stream",
          "name": "stdout",
          "text": [
            "[[0. 0. 0.]\n",
            " [0. 0. 0.]\n",
            " [0. 0. 0.]\n",
            " [0. 0. 0.]]\n",
            "[[1. 0. 0. 0. 0.]\n",
            " [0. 1. 0. 0. 0.]\n",
            " [0. 0. 1. 0. 0.]\n",
            " [0. 0. 0. 1. 0.]\n",
            " [0. 0. 0. 0. 1.]]\n"
          ]
        }
      ]
    },
    {
      "cell_type": "code",
      "source": [
        "import numpy as np\n",
        "g = np.random.random((5))\n",
        "print(g)\n",
        "\n",
        "# valores aleatórios ^^"
      ],
      "metadata": {
        "colab": {
          "base_uri": "https://localhost:8080/"
        },
        "id": "XgWrruTw04K5",
        "outputId": "39ea0b6d-a5ae-4fa6-8863-7819a1900466"
      },
      "execution_count": 7,
      "outputs": [
        {
          "output_type": "stream",
          "name": "stdout",
          "text": [
            "[0.28633215 0.33886311 0.05852781 0.66269844 0.34627002]\n"
          ]
        }
      ]
    },
    {
      "cell_type": "code",
      "source": [
        "import numpy as np\n",
        "k = np.array([[17,22,43], [27,25,14], [15,24,32]])\n",
        "# cria a matriz bidmensional k\n",
        "print(k)\n",
        "# mostra a  matriz k\n",
        "print(k[0][1])\n",
        "# mostra um elemento específico da matriz k\n",
        "print(k.shape)\n",
        "# mostra o tamanho das dimensões da matriz k\n",
        "print(k.max())\n",
        "# mostra o maior valor da matriz k\n",
        "print(k.min())\n",
        "# mostra o menor valor da matriz k\n",
        "print(k.sum())\n",
        "# mostra a soma dos valores da matriz k\n",
        "print(k.mean())\n",
        "# mostra o valor da média dos valores da matriz k\n",
        "print(k.std())\n",
        "# mostra o desvio padrão da matriz (standard deviation\n",
        "                                                                                                                             )"
      ],
      "metadata": {
        "colab": {
          "base_uri": "https://localhost:8080/"
        },
        "id": "KlJSzFkQ1qi4",
        "outputId": "43f2a476-07d6-4b03-f727-b4d657565de4"
      },
      "execution_count": 8,
      "outputs": [
        {
          "output_type": "stream",
          "name": "stdout",
          "text": [
            "[[17 22 43]\n",
            " [27 25 14]\n",
            " [15 24 32]]\n",
            "22\n",
            "(3, 3)\n",
            "43\n",
            "14\n",
            "219\n",
            "24.333333333333332\n",
            "8.615231988880057\n"
          ]
        }
      ]
    },
    {
      "cell_type": "code",
      "source": [],
      "metadata": {
        "id": "xnWlWDae1I6v"
      },
      "execution_count": null,
      "outputs": []
    }
  ]
}