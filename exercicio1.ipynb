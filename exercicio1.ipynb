{
  "nbformat": 4,
  "nbformat_minor": 0,
  "metadata": {
    "colab": {
      "provenance": [],
      "authorship_tag": "ABX9TyOxk4Mfwf37vRwClaLe5U2X",
      "include_colab_link": true
    },
    "kernelspec": {
      "name": "python3",
      "display_name": "Python 3"
    },
    "language_info": {
      "name": "python"
    }
  },
  "cells": [
    {
      "cell_type": "markdown",
      "metadata": {
        "id": "view-in-github",
        "colab_type": "text"
      },
      "source": [
        "<a href=\"https://colab.research.google.com/github/04b811/ipynb/blob/main/exercicio1.ipynb\" target=\"_parent\"><img src=\"https://colab.research.google.com/assets/colab-badge.svg\" alt=\"Open In Colab\"/></a>"
      ]
    },
    {
      "cell_type": "markdown",
      "source": [
        "if statement python"
      ],
      "metadata": {
        "id": "OzZ95SUi7maH"
      }
    },
    {
      "cell_type": "code",
      "execution_count": 4,
      "metadata": {
        "colab": {
          "base_uri": "https://localhost:8080/"
        },
        "id": "s3PGlXJcq-fT",
        "outputId": "b9429de5-8910-478b-da05-3d60d2244c49"
      },
      "outputs": [
        {
          "output_type": "stream",
          "name": "stdout",
          "text": [
            "Digite sua nota na disciplina: 6\n",
            "Você foi APROVADO na disciplina\n"
          ]
        }
      ],
      "source": [
        "nota = float(input(\"Digite sua nota na disciplina: \"))\n",
        "if nota >= 6.0:\n",
        "  print('Você foi APROVADO na disciplina')\n",
        "else:\n",
        "  print('Você foi REPROVADO na disciplina')"
      ]
    },
    {
      "cell_type": "code",
      "source": [
        "x=float(input(\"Digite seu primeiro número: \"))\n",
        "y=float(input(\"Digite seu segundo número: \"))\n",
        "\n",
        "if x>y:\n",
        "    print(\"O número \",x,\" é maior que o número \",y)\n",
        "elif x==y:\n",
        "    print(\"Os dois números são iguais\")\n",
        "else:\n",
        "    print(\"O número \",y,\" é maior que o número \",x)"
      ],
      "metadata": {
        "colab": {
          "base_uri": "https://localhost:8080/"
        },
        "id": "T0RH0hoFwtAK",
        "outputId": "812f74bb-1e56-4537-9f09-75a4158e23c1"
      },
      "execution_count": 13,
      "outputs": [
        {
          "output_type": "stream",
          "name": "stdout",
          "text": [
            "Digite seu primeiro número: 5\n",
            "Digite seu segundo número: 6\n",
            "O número  6.0  é maior que o número  5.0\n"
          ]
        }
      ]
    },
    {
      "cell_type": "code",
      "source": [
        "idade = int(input(\"Digite sua idade: \"))\n",
        "if idade < 3:\n",
        "  print('Bebê')\n",
        "elif idade < 10:\n",
        "  print('Infantil')\n",
        "elif idade < 14:\n",
        "  print('Junior')\n",
        "elif idade < 18:\n",
        "  print('Adolescente')\n",
        "elif idade < 30:\n",
        "  print('Jovem')\n",
        "else:\n",
        "  print('Adulto')"
      ],
      "metadata": {
        "colab": {
          "base_uri": "https://localhost:8080/"
        },
        "id": "KF4vVTdr3chx",
        "outputId": "92e6606a-d105-4edb-c785-653869d8093c"
      },
      "execution_count": 14,
      "outputs": [
        {
          "output_type": "stream",
          "name": "stdout",
          "text": [
            "Digite sua idade: 11\n",
            "Junior\n"
          ]
        }
      ]
    },
    {
      "cell_type": "markdown",
      "source": [
        "while statement python"
      ],
      "metadata": {
        "id": "wRnN2mmo-kxK"
      }
    },
    {
      "cell_type": "code",
      "source": [
        "senha = \"54321\"\n",
        "leitura = \" \"\n",
        "while (leitura != senha):\n",
        "  leitura = input(\"Digite a senha: \")\n",
        "  if leitura == senha : print('Acesso Liberado ')\n",
        "  else: print('Senha incorreta. Tente novamente')"
      ],
      "metadata": {
        "colab": {
          "base_uri": "https://localhost:8080/"
        },
        "id": "88lRPGRb5fAW",
        "outputId": "7af77141-575d-4e91-a601-0490d310e510"
      },
      "execution_count": 17,
      "outputs": [
        {
          "output_type": "stream",
          "name": "stdout",
          "text": [
            "Digite a senha: 321\n",
            "Senha incorreta. Tente novamente\n",
            "Digite a senha: 54321\n",
            "Acesso Liberado \n"
          ]
        }
      ]
    },
    {
      "cell_type": "code",
      "source": [
        "contador = 0\n",
        "somador = 0\n",
        "while contador < 5:\n",
        "  contador = contador + 1\n",
        "  valor = float(input('Digite o '+str(contador)+'º valor: '))\n",
        "  somador = somador + valor\n",
        "\n",
        "print('Soma = ',somador)"
      ],
      "metadata": {
        "colab": {
          "base_uri": "https://localhost:8080/"
        },
        "id": "_aXmBlHP93PB",
        "outputId": "8019691b-1cda-4dbf-b43b-5f1f2e5952d3"
      },
      "execution_count": 18,
      "outputs": [
        {
          "output_type": "stream",
          "name": "stdout",
          "text": [
            "Digite o 1º valor: 45\n",
            "Digite o 2º valor: 1\n",
            "Digite o 3º valor: 1\n",
            "Digite o 4º valor: 1\n",
            "Digite o 5º valor: 1\n",
            "Soma =  49.0\n"
          ]
        }
      ]
    },
    {
      "cell_type": "code",
      "source": [
        "# imc = massa dividido pela sua altura(cm)^2\n",
        "# tabela de indice de massa corporea\n",
        "\n",
        "altura = float(input('Digite sua altura em metros: '))\n",
        "massa = float(input('Digite seu peso em quilogramas: '))\n",
        "\n",
        "imc = float(massa/altura**2)\n",
        "print(imc)\n",
        "\n",
        "if imc >= 18.5 and imc <= 24.9:\n",
        "  print('Seu IMC te classificaria como estando normal')\n",
        "elif imc < 18.5:\n",
        "  print('Seu IMC te classificaria como estando abaixo do peso')\n",
        "elif imc >= 25 and imc <= 29.9:\n",
        "  print('Seu IMC te classificaria como estando sobrepeso')\n",
        "elif imc >=30 and imc <= 39.9:\n",
        "  print('Seu IMC te classificaria como estando obeso')\n",
        "else:\n",
        "  print('Seu IMC te classificaria como estando gravemente obeso')"
      ],
      "metadata": {
        "colab": {
          "base_uri": "https://localhost:8080/"
        },
        "id": "2vcZkqvX-ooh",
        "outputId": "e2392ca6-4227-49cf-e3d8-093d752a2537"
      },
      "execution_count": 30,
      "outputs": [
        {
          "output_type": "stream",
          "name": "stdout",
          "text": [
            "Digite sua altura em metros: 1.61\n",
            "Digite seu peso em quilogramas: 54\n",
            "20.832529609197174\n",
            "Seu IMC te classificaria como estando normal\n"
          ]
        }
      ]
    }
  ]
}