{
  "nbformat": 4,
  "nbformat_minor": 0,
  "metadata": {
    "colab": {
      "provenance": [],
      "authorship_tag": "ABX9TyNNGCidEa01TK9X3lMDLr9Q",
      "include_colab_link": true
    },
    "kernelspec": {
      "name": "python3",
      "display_name": "Python 3"
    },
    "language_info": {
      "name": "python"
    }
  },
  "cells": [
    {
      "cell_type": "markdown",
      "metadata": {
        "id": "view-in-github",
        "colab_type": "text"
      },
      "source": [
        "<a href=\"https://colab.research.google.com/github/04b811/ipynb/blob/main/exercicio2.ipynb\" target=\"_parent\"><img src=\"https://colab.research.google.com/assets/colab-badge.svg\" alt=\"Open In Colab\"/></a>"
      ]
    },
    {
      "cell_type": "code",
      "execution_count": 7,
      "metadata": {
        "colab": {
          "base_uri": "https://localhost:8080/"
        },
        "id": "sY5qiwqmnKzG",
        "outputId": "459e834e-c506-4cf2-868b-d958399f5d63"
      },
      "outputs": [
        {
          "output_type": "stream",
          "name": "stdout",
          "text": [
            "Soma =  1\n",
            "Soma =  5\n",
            "Soma =  12\n",
            "Soma =  22\n",
            "Soma =  35\n",
            "Soma =  51\n",
            "Soma =  70\n"
          ]
        }
      ],
      "source": [
        "S = 0\n",
        "for x in range(1,20,3):\n",
        "  S = S + x\n",
        "\n",
        "# S = 1 + 4 + 7 + 10 + 13 + 16 + 19\n",
        "\n",
        "  print('Soma = ', S)"
      ]
    },
    {
      "cell_type": "code",
      "source": [
        "Lista_notas = [3,4,6.6,8,9,10,9.5,8.8,4.3]\n",
        "soma = 0\n",
        "for nota in Lista_notas:\n",
        "  soma = soma + soma\n",
        "media = soma/len(Lista_notas)\n",
        "print('Média = ', '{:.4f}'.format(media))"
      ],
      "metadata": {
        "colab": {
          "base_uri": "https://localhost:8080/"
        },
        "id": "hCp8QvXao1rH",
        "outputId": "1dc829a1-1940-4807-b577-6133d08490c9"
      },
      "execution_count": 8,
      "outputs": [
        {
          "output_type": "stream",
          "name": "stdout",
          "text": [
            "Média =  0.0000\n"
          ]
        }
      ]
    },
    {
      "cell_type": "code",
      "source": [
        "def Leitura(lista,qtd):\n",
        "  for i in range(1,qtd+1):\n",
        "    lista.append(int(input(\"Digite o valor do elemento: \")))\n",
        "\n",
        "ListaNotas = []\n",
        "Leitura(ListaNotas, 5)\n",
        "print(ListaNotas)"
      ],
      "metadata": {
        "colab": {
          "base_uri": "https://localhost:8080/"
        },
        "id": "GeH1ae8-5JCd",
        "outputId": "13046205-c145-4ca5-c518-70a3bb9f1d90"
      },
      "execution_count": 9,
      "outputs": [
        {
          "output_type": "stream",
          "name": "stdout",
          "text": [
            "Digite o valor do elemento: 4\n",
            "Digite o valor do elemento: 7\n",
            "Digite o valor do elemento: 6\n",
            "Digite o valor do elemento: 7\n",
            "Digite o valor do elemento: 8\n",
            "[4, 7, 6, 7, 8]\n"
          ]
        }
      ]
    }
  ]
}